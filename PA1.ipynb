{
 "cells": [
  {
   "cell_type": "markdown",
   "id": "0c9fdb37",
   "metadata": {},
   "source": [
    "## Assignment1: Working on Markdown, Samia Mahmood, Version 2, Spring 2023"
   ]
  },
  {
   "cell_type": "markdown",
   "id": "a41c5d15",
   "metadata": {},
   "source": [
    "# Computer Prog for Liberal Arts CS 150-01"
   ]
  },
  {
   "cell_type": "markdown",
   "id": "0e421acd",
   "metadata": {},
   "source": [
    "## Getting Started with Markdown"
   ]
  },
  {
   "cell_type": "markdown",
   "id": "1dc04a9e",
   "metadata": {},
   "source": [
    "> Hello there!"
   ]
  },
  {
   "cell_type": "markdown",
   "id": "4df655c2",
   "metadata": {},
   "source": [
    "* Assignment 1\n",
    "* Assignment 2\n",
    "* Assignment 3\n",
    "* Assignment 4\n",
    "* Assignment 5\n",
    "* Assignment 6\n",
    "* Assignment 7"
   ]
  },
  {
   "cell_type": "markdown",
   "id": "268d4135",
   "metadata": {},
   "source": [
    "**Markdowns are so cool.**"
   ]
  },
  {
   "cell_type": "markdown",
   "id": "f8d47c17",
   "metadata": {},
   "source": [
    "*We are practicing with markdowns right now.*"
   ]
  },
  {
   "cell_type": "markdown",
   "id": "d05c87e5",
   "metadata": {},
   "source": [
    "`Python is super interesting!!`"
   ]
  },
  {
   "cell_type": "markdown",
   "id": "58dc042e",
   "metadata": {},
   "source": [
    "<a href=\"https://github.com/Graviton12?\">This is my hyperlink</a>"
   ]
  },
  {
   "cell_type": "markdown",
   "id": "461a36e8",
   "metadata": {},
   "source": [
    "![Python Logo](https://envato-shoebox-0.imgix.net/ce12/1fef-b702-429e-aaae-1fdb7be419d9/KO2A0956.JPG?auto=compress%2Cformat&fit=max&mark=https%3A%2F%2Felements-assets.envato.com%2Fstatic%2Fwatermark2.png&markalign=center%2Cmiddle&markalpha=18&w=1000&s=3813dd7785234fdd7ff84a74c9e6c410)"
   ]
  },
  {
   "cell_type": "code",
   "execution_count": null,
   "id": "da66963d",
   "metadata": {},
   "outputs": [],
   "source": []
  }
 ],
 "metadata": {
  "kernelspec": {
   "display_name": "Python 3 (ipykernel)",
   "language": "python",
   "name": "python3"
  },
  "language_info": {
   "codemirror_mode": {
    "name": "ipython",
    "version": 3
   },
   "file_extension": ".py",
   "mimetype": "text/x-python",
   "name": "python",
   "nbconvert_exporter": "python",
   "pygments_lexer": "ipython3",
   "version": "3.9.13"
  }
 },
 "nbformat": 4,
 "nbformat_minor": 5
}
